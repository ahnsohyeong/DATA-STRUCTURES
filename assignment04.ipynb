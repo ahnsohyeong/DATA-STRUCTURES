{
  "nbformat": 4,
  "nbformat_minor": 0,
  "metadata": {
    "colab": {
      "provenance": []
    },
    "kernelspec": {
      "name": "python3",
      "display_name": "Python 3"
    },
    "language_info": {
      "name": "python"
    }
  },
  "cells": [
    {
      "cell_type": "markdown",
      "source": [
        "# 1. LeetCode 225\n"
      ],
      "metadata": {
        "id": "Fg9K7aJlN1Nd"
      }
    },
    {
      "cell_type": "code",
      "source": [
        "class MyStack:\n",
        "\n",
        "    def __init__(self):\n",
        "        self.q = []\n",
        "\n",
        "    def push(self, x: int) -> None:\n",
        "        self.q.append(x)\n",
        "        for _ in range(len(self.q) - 1):\n",
        "            self.q.append(self.q.pop(0))\n",
        "\n",
        "\n",
        "    def pop(self) -> int:\n",
        "        return self.q.pop(0)\n",
        "\n",
        "    def top(self) -> int:\n",
        "        return self.q[0]\n",
        "\n",
        "    def empty(self) -> bool:\n",
        "        return len(self.q) == 0"
      ],
      "metadata": {
        "id": "QDOTs7IJPomp"
      },
      "execution_count": null,
      "outputs": []
    },
    {
      "cell_type": "markdown",
      "source": [
        "# 2. LeetCode 232"
      ],
      "metadata": {
        "id": "JaFMejNvY9ZD"
      }
    },
    {
      "cell_type": "code",
      "source": [
        "class MyQueue:\n",
        "\n",
        "    def __init__(self):\n",
        "        self.input = []\n",
        "        self.output = []\n",
        "\n",
        "    def push(self, x: int) -> None:\n",
        "        self.input.append(x)\n",
        "\n",
        "    def pop(self) -> int:\n",
        "        self.peek()\n",
        "        return self.output.pop()\n",
        "\n",
        "    def peek(self) -> int:\n",
        "        if not self.output :\n",
        "            while self.input :\n",
        "                self.output.append(self.input.pop())\n",
        "        return self.output[-1]\n",
        "\n",
        "    def empty(self) -> bool:\n",
        "        return self.input == [] and self.output == []\n"
      ],
      "metadata": {
        "id": "2OmQW2JaZWsh"
      },
      "execution_count": null,
      "outputs": []
    },
    {
      "cell_type": "markdown",
      "source": [
        "# 3. Chapter 7"
      ],
      "metadata": {
        "id": "LyT8Hk0jdlc2"
      }
    },
    {
      "cell_type": "markdown",
      "source": [
        "##1번"
      ],
      "metadata": {
        "id": "Z_S8Yv25D0T_"
      }
    },
    {
      "cell_type": "code",
      "source": [
        "class ListQueue:\n",
        "    def __init__(self):\n",
        "        self.__queue = []\n",
        "\n",
        "    def enqueue(self,x):\n",
        "        self.__queue.insert(0,x)\n",
        "\n",
        "    def dequeue(self):\n",
        "        return self.__queue.pop()\n",
        "\n",
        "    def front(self):\n",
        "        return self.__queue[-1]\n",
        "\n",
        "    def isEmpty(self) -> bool:\n",
        "        return len(self.__queue)==0\n",
        "\n",
        "    def dequeueAll(self):\n",
        "        self.__queue.clear()"
      ],
      "metadata": {
        "id": "3KTjnDGwD8P1"
      },
      "execution_count": null,
      "outputs": []
    },
    {
      "cell_type": "markdown",
      "source": [
        "## 2번"
      ],
      "metadata": {
        "id": "_Jwz0LisHY3P"
      }
    },
    {
      "cell_type": "code",
      "source": [
        "    def is_in(string: str) -> bool:\n",
        "        q = ListQueue()\n",
        "        index = 0\n",
        "        while string[index] != '$':\n",
        "            q.enqueue(string[index])\n",
        "            index += 1\n",
        "\n",
        "        index += 1\n",
        "        while index < len(string):\n",
        "            if q.dequeue() != string[index]:\n",
        "                return False\n",
        "            else:\n",
        "                index += 1\n",
        "        return True"
      ],
      "metadata": {
        "id": "gczLhcF7HcYJ"
      },
      "execution_count": null,
      "outputs": []
    },
    {
      "cell_type": "markdown",
      "source": [
        "## 3번"
      ],
      "metadata": {
        "id": "FzfYATJ_KoJQ"
      }
    },
    {
      "cell_type": "code",
      "source": [
        "def Copylinkedqueue(a: LinkedQueue, b: LinkedQueue):\n",
        "    b.dequeue_all()\n",
        "    temp_queue = LinkedQueue()\n",
        "\n",
        "    while not a.is_empty():\n",
        "        temp_queue.enqueue(a.dequeue())\n",
        "\n",
        "    while not temp_queue.is_empty():\n",
        "        item = temp_queue.dequeue()\n",
        "        a.enqueue(item)\n",
        "        b.enqueue(item)"
      ],
      "metadata": {
        "id": "RQhLOGfrKqiR"
      },
      "execution_count": null,
      "outputs": []
    },
    {
      "cell_type": "markdown",
      "source": [
        "## 4번"
      ],
      "metadata": {
        "id": "dWJDrD9PTGBD"
      }
    },
    {
      "cell_type": "code",
      "source": [
        "class StackUsingQueues:\n",
        "    def __init__(self):\n",
        "        self.q1 = []\n",
        "        self.q2 = []\n",
        "\n",
        "    def push(self, x):\n",
        "        self.q2.append(x)\n",
        "\n",
        "        while self.q1:\n",
        "            self.q2.append(self.q1.pop(0))\n",
        "\n",
        "        self.q1, self.q2 = self.q2, self.q1\n",
        "\n",
        "    def pop(self):\n",
        "        if not self.q1:\n",
        "            return None\n",
        "        return self.q1.pop(0)\n"
      ],
      "metadata": {
        "id": "wx8mACliTICe"
      },
      "execution_count": null,
      "outputs": []
    },
    {
      "cell_type": "markdown",
      "source": [
        "##5번"
      ],
      "metadata": {
        "id": "Q-Ux_5oAdH8K"
      }
    },
    {
      "cell_type": "code",
      "source": [
        "class StackQueue:\n",
        "    def __init__(self):\n",
        "        self.s1 = []\n",
        "        self.s2 = []\n",
        "\n",
        "    def enqueue(self, x):\n",
        "        self.s1.append(x)\n",
        "\n",
        "    def dequeue(self):\n",
        "        if not self.s2:\n",
        "            while self.s1:\n",
        "                self.s2.append(self.s1.pop())\n",
        "        if not self.s2:\n",
        "            return None\n",
        "        return self.s2.pop()"
      ],
      "metadata": {
        "id": "3zLuTPjKdKJA"
      },
      "execution_count": null,
      "outputs": []
    },
    {
      "cell_type": "markdown",
      "source": [
        "## 6번"
      ],
      "metadata": {
        "id": "EzxQQypsfASr"
      }
    },
    {
      "cell_type": "markdown",
      "source": [
        "### 단방향 원형 연결 리스트의 환경에서 구현한 것이다. enqueue() 의 경우, 맨 앞에서의 enqueue()는 순회가 필요하므로 수행시간이 수행시간이 Θ(n)이고, 맨 뒤에서의 enqueue()는 즉시 수행가능하므로 Θ(1)의 수행시간을 갖는다. dequeue()의 경우, 맨 앞에서의 dequeue()는 즉시 수행가능하므로 Θ(1)이고, 맨 뒤에서의 dequeue()는 순회가 필요하므로 Θ(n)의 수행시간을 갖는다."
      ],
      "metadata": {
        "id": "zMHKCaXtfDCQ"
      }
    },
    {
      "cell_type": "markdown",
      "source": [
        "##7번"
      ],
      "metadata": {
        "id": "9rotsMLVoOAG"
      }
    },
    {
      "cell_type": "markdown",
      "source": [
        "### 단방향 연결 리스트이다. enqueue()의 경우, 맨 앞과 맨 뒤 모두 수행시간이 Θ(1) 이다. dequeue()의 경우, 맨 앞에서의 dequeue()는 Θ(1)이고, 맨 뒤에서의 dequeue()는 앞에서부터 순회해야하므로 수행시간이 Θ(n)이다."
      ],
      "metadata": {
        "id": "RCw6lCBboX19"
      }
    },
    {
      "cell_type": "markdown",
      "source": [
        "##8번"
      ],
      "metadata": {
        "id": "Ip4yw4-yvl2D"
      }
    },
    {
      "cell_type": "code",
      "source": [
        "class Deque:\n",
        "    def __init__(self):\n",
        "        self.__data = []\n",
        "\n",
        "    def enqueue_front(self, x):\n",
        "        self.__data.insert(0, x)\n",
        "\n",
        "    def enqueue_tail(self, x):\n",
        "        self.__data.append(x)\n",
        "\n",
        "    def dequeue_front(self):\n",
        "        if self.isEmpty():\n",
        "            return None\n",
        "        return self.__data.pop(0)\n",
        "\n",
        "    def dequeue_tail(self):\n",
        "        if self.isEmpty():\n",
        "            return None\n",
        "        return self.__data.pop()\n",
        "\n",
        "    def front(self):\n",
        "        if self.isEmpty():\n",
        "            return None\n",
        "        return self.__data[0]\n",
        "\n",
        "    def tail(self):\n",
        "        if self.isEmpty():\n",
        "            return None\n",
        "        return self.__data[-1]\n",
        "\n",
        "    def isEmpty(self):\n",
        "        return len(self.__data) == 0\n",
        "\n",
        "    def clear(self):\n",
        "        self.__data.clear()"
      ],
      "metadata": {
        "id": "CNZ58zCtvqMi"
      },
      "execution_count": null,
      "outputs": []
    }
  ]
}